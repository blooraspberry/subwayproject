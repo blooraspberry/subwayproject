{
 "cells": [
  {
   "cell_type": "code",
   "execution_count": 1,
   "metadata": {},
   "outputs": [],
   "source": [
    "import geocoder\n",
    "import pandas as pd"
   ]
  },
  {
   "cell_type": "code",
   "execution_count": 2,
   "metadata": {},
   "outputs": [],
   "source": [
    "file = open('unique_addresses.txt', 'r')\n",
    "address = file.read().split('\\n')"
   ]
  },
  {
   "cell_type": "code",
   "execution_count": 9,
   "metadata": {},
   "outputs": [
    {
     "name": "stderr",
     "output_type": "stream",
     "text": [
      "Status code 400 from https://maps.googleapis.com/maps/api/geocode/json: ERROR - 400 Client Error: Bad Request for url: https://maps.googleapis.com/maps/api/geocode/json?address=&bounds=&components=&region=&language=\n"
     ]
    }
   ],
   "source": [
    "#Sharon 0, 2401\n",
    "#Jason 2401, 4801\n",
    "#Addy 4801, 7201\n",
    "\n",
    "latlong = []\n",
    "for i in range(7201, len(address)):\n",
    "    g = geocoder.google(address[i])\n",
    "    latlong.append(g.latlng)"
   ]
  },
  {
   "cell_type": "code",
   "execution_count": 11,
   "metadata": {},
   "outputs": [
    {
     "name": "stdout",
     "output_type": "stream",
     "text": [
      "1818\n"
     ]
    }
   ],
   "source": [
    "#print(latlong)\n",
    "print(len(latlong))"
   ]
  },
  {
   "cell_type": "code",
   "execution_count": 12,
   "metadata": {},
   "outputs": [],
   "source": [
    "dictionary = dict(zip(address[7201: len(address)], latlong))"
   ]
  },
  {
   "cell_type": "code",
   "execution_count": 13,
   "metadata": {},
   "outputs": [],
   "source": [
    "df = pd.read_csv('all_addresses.csv')"
   ]
  },
  {
   "cell_type": "code",
   "execution_count": 14,
   "metadata": {},
   "outputs": [],
   "source": [
    "df['LAT_LONG'] = df['Full Address'].map(dictionary)"
   ]
  },
  {
   "cell_type": "code",
   "execution_count": 15,
   "metadata": {},
   "outputs": [],
   "source": [
    "df.to_csv('all_addresses.csv')\n",
    "df.to_csv('all_addresses_yourini.csv')"
   ]
  },
  {
   "cell_type": "code",
   "execution_count": null,
   "metadata": {},
   "outputs": [],
   "source": []
  }
 ],
 "metadata": {
  "kernelspec": {
   "display_name": "Python 3",
   "language": "python",
   "name": "python3"
  },
  "language_info": {
   "codemirror_mode": {
    "name": "ipython",
    "version": 3
   },
   "file_extension": ".py",
   "mimetype": "text/x-python",
   "name": "python",
   "nbconvert_exporter": "python",
   "pygments_lexer": "ipython3",
   "version": "3.6.4"
  }
 },
 "nbformat": 4,
 "nbformat_minor": 2
}
