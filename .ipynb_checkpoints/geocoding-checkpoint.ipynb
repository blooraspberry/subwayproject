{
 "cells": [
  {
   "cell_type": "code",
   "execution_count": 46,
   "metadata": {},
   "outputs": [],
   "source": [
    "import geocoder\n",
    "import pandas as pd\n",
    "import numpy as np\n",
    "from geopy.geocoders import Nominatim\n",
    "import time"
   ]
  },
  {
   "cell_type": "code",
   "execution_count": 9,
   "metadata": {},
   "outputs": [],
   "source": [
    "# format of how this works\n",
    "g = geocoder.google(' 96 AVENUE B, New York, NY, 10009')"
   ]
  },
  {
   "cell_type": "code",
   "execution_count": 64,
   "metadata": {},
   "outputs": [
    {
     "data": {
      "text/plain": [
       "[40.7247191, -73.9817288]"
      ]
     },
     "execution_count": 64,
     "metadata": {},
     "output_type": "execute_result"
    }
   ],
   "source": [
    "g.latlng"
   ]
  },
  {
   "cell_type": "code",
   "execution_count": 3,
   "metadata": {},
   "outputs": [],
   "source": [
    "#zipcode_focus = [10021, 10028, 10065, 10075, 10128, 10001, 10018,10002, 10038, 10280, 10281, 10024, 10025, 10027, 10002, 10003, 10009, 10012]\n",
    "\n",
    "zipcode_focus = [10065,10021, 10075,  10028,10128 ,10029]"
   ]
  },
  {
   "cell_type": "code",
   "execution_count": 47,
   "metadata": {},
   "outputs": [],
   "source": [
    "#copy relevant addresses\n",
    "\n",
    "geocoded = pd.read_csv(\"data/geocoder/all_addresses_ues.csv\")"
   ]
  },
  {
   "cell_type": "code",
   "execution_count": 50,
   "metadata": {},
   "outputs": [],
   "source": [
    "recent = pd.read_excel(\"data/rollingsales_manhattan.xls\")\n",
    "m14 = pd.read_excel(\"data/2014_manhattan.xls\")\n",
    "m15 = pd.read_excel(\"data/2015_manhattan.xls\")\n",
    "m16 = pd.read_excel(\"data/2016_manhattan.xls\")"
   ]
  },
  {
   "cell_type": "code",
   "execution_count": 51,
   "metadata": {},
   "outputs": [],
   "source": [
    "m14 = m14[4:]\n",
    "m15 = m15[4:]\n",
    "m16 = m16[4:]\n",
    "recent = recent[4:]"
   ]
  },
  {
   "cell_type": "code",
   "execution_count": 52,
   "metadata": {},
   "outputs": [],
   "source": [
    "header = ['BOROUGH', 'NEIGHBORHOOD', 'BUILDING CLASS CATEGORY',\n",
    "       'TAX CLASS AT PRESENT', 'BLOCK', 'LOT', 'EASE-MENT',\n",
    "       'BUILDING CLASS AT PRESENT', 'ADDRESS', 'APARTMENT NUMBER',\n",
    "       'ZIP CODE', 'RESIDENTIAL UNITS', 'COMMERCIAL UNITS',\n",
    "       'TOTAL UNITS', 'LAND SQUARE FEET', 'GROSS SQUARE FEET',\n",
    "       'YEAR BUILT', 'TAX CLASS AT TIME OF SALE',\n",
    "       'BUILDING CLASS AT TIME OF SALE', 'SALE PRICE', 'SALE DATE']"
   ]
  },
  {
   "cell_type": "code",
   "execution_count": 53,
   "metadata": {},
   "outputs": [],
   "source": [
    "m14.columns = header\n",
    "m15.columns = header\n",
    "m16.columns = header\n",
    "recent.columns = header\n"
   ]
  },
  {
   "cell_type": "code",
   "execution_count": 54,
   "metadata": {},
   "outputs": [
    {
     "data": {
      "text/plain": [
       "Index(['BOROUGH', 'NEIGHBORHOOD', 'BUILDING CLASS CATEGORY',\n",
       "       'TAX CLASS AT PRESENT', 'BLOCK', 'LOT', 'EASE-MENT',\n",
       "       'BUILDING CLASS AT PRESENT', 'ADDRESS', 'APARTMENT NUMBER', 'ZIP CODE',\n",
       "       'RESIDENTIAL UNITS', 'COMMERCIAL UNITS', 'TOTAL UNITS',\n",
       "       'LAND SQUARE FEET', 'GROSS SQUARE FEET', 'YEAR BUILT',\n",
       "       'TAX CLASS AT TIME OF SALE', 'BUILDING CLASS AT TIME OF SALE',\n",
       "       'SALE PRICE', 'SALE DATE'],\n",
       "      dtype='object')"
      ]
     },
     "execution_count": 54,
     "metadata": {},
     "output_type": "execute_result"
    }
   ],
   "source": [
    "m14.columns"
   ]
  },
  {
   "cell_type": "code",
   "execution_count": 55,
   "metadata": {},
   "outputs": [],
   "source": [
    "m14['ADDRESS_clean'] = m14['ADDRESS'].str.split(',').str[0]\n",
    "m15['ADDRESS_clean'] = m15['ADDRESS'].str.split(',').str[0]\n",
    "m16['ADDRESS_clean'] = m16['ADDRESS'].str.split(',').str[0]\n",
    "recent['ADDRESS_clean'] = recent['ADDRESS'].str.split(',').str[0]"
   ]
  },
  {
   "cell_type": "code",
   "execution_count": 56,
   "metadata": {},
   "outputs": [
    {
     "data": {
      "text/html": [
       "<div>\n",
       "<style scoped>\n",
       "    .dataframe tbody tr th:only-of-type {\n",
       "        vertical-align: middle;\n",
       "    }\n",
       "\n",
       "    .dataframe tbody tr th {\n",
       "        vertical-align: top;\n",
       "    }\n",
       "\n",
       "    .dataframe thead th {\n",
       "        text-align: right;\n",
       "    }\n",
       "</style>\n",
       "<table border=\"1\" class=\"dataframe\">\n",
       "  <thead>\n",
       "    <tr style=\"text-align: right;\">\n",
       "      <th></th>\n",
       "      <th>BOROUGH</th>\n",
       "      <th>NEIGHBORHOOD</th>\n",
       "      <th>BUILDING CLASS CATEGORY</th>\n",
       "      <th>TAX CLASS AT PRESENT</th>\n",
       "      <th>BLOCK</th>\n",
       "      <th>LOT</th>\n",
       "      <th>EASE-MENT</th>\n",
       "      <th>BUILDING CLASS AT PRESENT</th>\n",
       "      <th>ADDRESS</th>\n",
       "      <th>APARTMENT NUMBER</th>\n",
       "      <th>...</th>\n",
       "      <th>COMMERCIAL UNITS</th>\n",
       "      <th>TOTAL UNITS</th>\n",
       "      <th>LAND SQUARE FEET</th>\n",
       "      <th>GROSS SQUARE FEET</th>\n",
       "      <th>YEAR BUILT</th>\n",
       "      <th>TAX CLASS AT TIME OF SALE</th>\n",
       "      <th>BUILDING CLASS AT TIME OF SALE</th>\n",
       "      <th>SALE PRICE</th>\n",
       "      <th>SALE DATE</th>\n",
       "      <th>ADDRESS_clean</th>\n",
       "    </tr>\n",
       "  </thead>\n",
       "  <tbody>\n",
       "    <tr>\n",
       "      <th>4</th>\n",
       "      <td>1</td>\n",
       "      <td>ALPHABET CITY</td>\n",
       "      <td>01  ONE FAMILY DWELLINGS</td>\n",
       "      <td>1</td>\n",
       "      <td>402</td>\n",
       "      <td>42</td>\n",
       "      <td></td>\n",
       "      <td>S1</td>\n",
       "      <td>96 AVENUE B</td>\n",
       "      <td></td>\n",
       "      <td>...</td>\n",
       "      <td>1</td>\n",
       "      <td>2</td>\n",
       "      <td>1400</td>\n",
       "      <td>1839</td>\n",
       "      <td>1901</td>\n",
       "      <td>1</td>\n",
       "      <td>S1</td>\n",
       "      <td>0</td>\n",
       "      <td>2014-12-05 00:00:00</td>\n",
       "      <td>96 AVENUE B</td>\n",
       "    </tr>\n",
       "    <tr>\n",
       "      <th>5</th>\n",
       "      <td>1</td>\n",
       "      <td>ALPHABET CITY</td>\n",
       "      <td>02  TWO FAMILY DWELLINGS</td>\n",
       "      <td>1</td>\n",
       "      <td>372</td>\n",
       "      <td>37</td>\n",
       "      <td></td>\n",
       "      <td>S2</td>\n",
       "      <td>17 AVENUE D</td>\n",
       "      <td></td>\n",
       "      <td>...</td>\n",
       "      <td>1</td>\n",
       "      <td>3</td>\n",
       "      <td>826</td>\n",
       "      <td>2075</td>\n",
       "      <td>1910</td>\n",
       "      <td>1</td>\n",
       "      <td>S2</td>\n",
       "      <td>0</td>\n",
       "      <td>2014-01-31 00:00:00</td>\n",
       "      <td>17 AVENUE D</td>\n",
       "    </tr>\n",
       "    <tr>\n",
       "      <th>6</th>\n",
       "      <td>1</td>\n",
       "      <td>ALPHABET CITY</td>\n",
       "      <td>03  THREE FAMILY DWELLINGS</td>\n",
       "      <td>1</td>\n",
       "      <td>377</td>\n",
       "      <td>66</td>\n",
       "      <td></td>\n",
       "      <td>C0</td>\n",
       "      <td>243 EAST 7TH   STREET</td>\n",
       "      <td></td>\n",
       "      <td>...</td>\n",
       "      <td>0</td>\n",
       "      <td>3</td>\n",
       "      <td>2381</td>\n",
       "      <td>3084</td>\n",
       "      <td>1899</td>\n",
       "      <td>1</td>\n",
       "      <td>C0</td>\n",
       "      <td>2900000</td>\n",
       "      <td>2014-11-26 00:00:00</td>\n",
       "      <td>243 EAST 7TH   STREET</td>\n",
       "    </tr>\n",
       "    <tr>\n",
       "      <th>7</th>\n",
       "      <td>1</td>\n",
       "      <td>ALPHABET CITY</td>\n",
       "      <td>07  RENTALS - WALKUP APARTMENTS</td>\n",
       "      <td>2B</td>\n",
       "      <td>372</td>\n",
       "      <td>51</td>\n",
       "      <td></td>\n",
       "      <td>C7</td>\n",
       "      <td>300 EAST 2ND   STREET</td>\n",
       "      <td></td>\n",
       "      <td>...</td>\n",
       "      <td>2</td>\n",
       "      <td>10</td>\n",
       "      <td>2650</td>\n",
       "      <td>7620</td>\n",
       "      <td>1920</td>\n",
       "      <td>2</td>\n",
       "      <td>C7</td>\n",
       "      <td>0</td>\n",
       "      <td>2014-07-18 00:00:00</td>\n",
       "      <td>300 EAST 2ND   STREET</td>\n",
       "    </tr>\n",
       "    <tr>\n",
       "      <th>8</th>\n",
       "      <td>1</td>\n",
       "      <td>ALPHABET CITY</td>\n",
       "      <td>07  RENTALS - WALKUP APARTMENTS</td>\n",
       "      <td>2</td>\n",
       "      <td>373</td>\n",
       "      <td>15</td>\n",
       "      <td></td>\n",
       "      <td>D1</td>\n",
       "      <td>324 EAST 4TH   STREET</td>\n",
       "      <td></td>\n",
       "      <td>...</td>\n",
       "      <td>0</td>\n",
       "      <td>11</td>\n",
       "      <td>2212</td>\n",
       "      <td>8294</td>\n",
       "      <td>1920</td>\n",
       "      <td>2</td>\n",
       "      <td>C3</td>\n",
       "      <td>0</td>\n",
       "      <td>2014-05-30 00:00:00</td>\n",
       "      <td>324 EAST 4TH   STREET</td>\n",
       "    </tr>\n",
       "  </tbody>\n",
       "</table>\n",
       "<p>5 rows × 22 columns</p>\n",
       "</div>"
      ],
      "text/plain": [
       "  BOROUGH               NEIGHBORHOOD  \\\n",
       "4       1  ALPHABET CITY               \n",
       "5       1  ALPHABET CITY               \n",
       "6       1  ALPHABET CITY               \n",
       "7       1  ALPHABET CITY               \n",
       "8       1  ALPHABET CITY               \n",
       "\n",
       "                        BUILDING CLASS CATEGORY TAX CLASS AT PRESENT BLOCK  \\\n",
       "4  01  ONE FAMILY DWELLINGS                                        1   402   \n",
       "5  02  TWO FAMILY DWELLINGS                                        1   372   \n",
       "6  03  THREE FAMILY DWELLINGS                                      1   377   \n",
       "7  07  RENTALS - WALKUP APARTMENTS                                2B   372   \n",
       "8  07  RENTALS - WALKUP APARTMENTS                                 2   373   \n",
       "\n",
       "  LOT EASE-MENT BUILDING CLASS AT PRESENT  \\\n",
       "4  42                                  S1   \n",
       "5  37                                  S2   \n",
       "6  66                                  C0   \n",
       "7  51                                  C7   \n",
       "8  15                                  D1   \n",
       "\n",
       "                                     ADDRESS APARTMENT NUMBER  \\\n",
       "4  96 AVENUE B                                                  \n",
       "5  17 AVENUE D                                                  \n",
       "6  243 EAST 7TH   STREET                                        \n",
       "7  300 EAST 2ND   STREET                                        \n",
       "8  324 EAST 4TH   STREET                                        \n",
       "\n",
       "                     ...                     COMMERCIAL UNITS TOTAL UNITS  \\\n",
       "4                    ...                                    1           2   \n",
       "5                    ...                                    1           3   \n",
       "6                    ...                                    0           3   \n",
       "7                    ...                                    2          10   \n",
       "8                    ...                                    0          11   \n",
       "\n",
       "  LAND SQUARE FEET GROSS SQUARE FEET YEAR BUILT TAX CLASS AT TIME OF SALE  \\\n",
       "4             1400              1839       1901                         1   \n",
       "5              826              2075       1910                         1   \n",
       "6             2381              3084       1899                         1   \n",
       "7             2650              7620       1920                         2   \n",
       "8             2212              8294       1920                         2   \n",
       "\n",
       "  BUILDING CLASS AT TIME OF SALE SALE PRICE            SALE DATE  \\\n",
       "4                             S1          0  2014-12-05 00:00:00   \n",
       "5                             S2          0  2014-01-31 00:00:00   \n",
       "6                             C0    2900000  2014-11-26 00:00:00   \n",
       "7                             C7          0  2014-07-18 00:00:00   \n",
       "8                             C3          0  2014-05-30 00:00:00   \n",
       "\n",
       "                               ADDRESS_clean  \n",
       "4  96 AVENUE B                                \n",
       "5  17 AVENUE D                                \n",
       "6  243 EAST 7TH   STREET                      \n",
       "7  300 EAST 2ND   STREET                      \n",
       "8  324 EAST 4TH   STREET                      \n",
       "\n",
       "[5 rows x 22 columns]"
      ]
     },
     "execution_count": 56,
     "metadata": {},
     "output_type": "execute_result"
    }
   ],
   "source": [
    "m14.head(5)"
   ]
  },
  {
   "cell_type": "code",
   "execution_count": 57,
   "metadata": {},
   "outputs": [],
   "source": [
    "m14['FullAddress'] = m14['ADDRESS_clean'] + ' New York, NY ' + m14['ZIP CODE'].astype(str)\n",
    "m15['FullAddress'] = m15['ADDRESS_clean'] + ' New York, NY ' + m15['ZIP CODE'].astype(str)\n",
    "m16['FullAddress'] = m16['ADDRESS_clean'] + ' New York, NY ' + m16['ZIP CODE'].astype(str)\n",
    "recent['FullAddress'] = recent['ADDRESS_clean'] + ' New York, NY ' + recent['ZIP CODE'].astype(str)"
   ]
  },
  {
   "cell_type": "code",
   "execution_count": 58,
   "metadata": {},
   "outputs": [],
   "source": [
    "recent_focus = recent[recent['ZIP CODE'].isin(zipcode_focus)]\n",
    "m14_focus = m14[m14['ZIP CODE'].isin(zipcode_focus)]\n",
    "m15_focus = m15[m15['ZIP CODE'].isin(zipcode_focus)]\n",
    "m16_focus = m16[m16['ZIP CODE'].isin(zipcode_focus)]"
   ]
  },
  {
   "cell_type": "code",
   "execution_count": 59,
   "metadata": {},
   "outputs": [],
   "source": [
    "all_ues_sales = recent_focus.append(m14_focus).append(m15_focus).append(m16_focus)"
   ]
  },
  {
   "cell_type": "code",
   "execution_count": 27,
   "metadata": {},
   "outputs": [],
   "source": [
    "address_list_recent = recent['FullAddress'].tolist()"
   ]
  },
  {
   "cell_type": "code",
   "execution_count": 42,
   "metadata": {},
   "outputs": [],
   "source": [
    "all_address = recent_focus['FullAddress'].tolist() + m15_focus['FullAddress'].tolist() + m14_focus['FullAddress'].tolist() + m16_focus['FullAddress'].tolist()"
   ]
  },
  {
   "cell_type": "code",
   "execution_count": 43,
   "metadata": {},
   "outputs": [],
   "source": [
    "all_address = list(set(all_address))\n",
    "latlong_alladddress_first = []"
   ]
  },
  {
   "cell_type": "code",
   "execution_count": 30,
   "metadata": {
    "scrolled": true
   },
   "outputs": [
    {
     "data": {
      "text/plain": [
       "['200 WEST 79TH STREET New York, NY 10024',\n",
       " '67 RIVERSIDE DRIVE New York, NY 10024',\n",
       " '134 W 93RD STREET                         New York, NY 10025',\n",
       " '790 COLUMBUS AVENUE New York, NY 10025',\n",
       " '225 EAST 73RD STREET New York, NY 10021']"
      ]
     },
     "execution_count": 30,
     "metadata": {},
     "output_type": "execute_result"
    }
   ],
   "source": [
    "all_address[0: 5]"
   ]
  },
  {
   "cell_type": "code",
   "execution_count": 192,
   "metadata": {},
   "outputs": [],
   "source": [
    "file = open('unique_addresses.txt', 'w')\n",
    "for item in all_address:\n",
    "    file.write(\"%s\\n\" % item)"
   ]
  },
  {
   "cell_type": "code",
   "execution_count": 44,
   "metadata": {},
   "outputs": [],
   "source": [
    "# most addreses to a df\n",
    "df = pd.DataFrame({'Full Address': all_address})"
   ]
  },
  {
   "cell_type": "code",
   "execution_count": 45,
   "metadata": {},
   "outputs": [],
   "source": [
    "df.to_csv('all_addresses_ues.csv')"
   ]
  },
  {
   "cell_type": "code",
   "execution_count": 31,
   "metadata": {},
   "outputs": [],
   "source": [
    "#all_ues_sales_geocode.head()"
   ]
  },
  {
   "cell_type": "code",
   "execution_count": 49,
   "metadata": {},
   "outputs": [],
   "source": [
    "#geocoded"
   ]
  },
  {
   "cell_type": "code",
   "execution_count": 60,
   "metadata": {},
   "outputs": [],
   "source": [
    "geocoded.columns = ['FullAddress', 'LAT_LONG']"
   ]
  },
  {
   "cell_type": "code",
   "execution_count": 61,
   "metadata": {},
   "outputs": [],
   "source": [
    "all_ues_sales_geocode = pd.merge(all_ues_sales, geocoded, on = ['FullAddress'])"
   ]
  },
  {
   "cell_type": "code",
   "execution_count": 63,
   "metadata": {},
   "outputs": [],
   "source": [
    "all_ues_sales_geocode = all_ues_sales_geocode.drop_duplicates()"
   ]
  },
  {
   "cell_type": "code",
   "execution_count": 64,
   "metadata": {},
   "outputs": [],
   "source": [
    "all_ues_sales_geocode.to_csv('all_ues_sales_geocode.csv')"
   ]
  },
  {
   "cell_type": "code",
   "execution_count": null,
   "metadata": {},
   "outputs": [],
   "source": []
  },
  {
   "cell_type": "code",
   "execution_count": null,
   "metadata": {},
   "outputs": [],
   "source": []
  }
 ],
 "metadata": {
  "kernelspec": {
   "display_name": "Python 3",
   "language": "python",
   "name": "python3"
  },
  "language_info": {
   "codemirror_mode": {
    "name": "ipython",
    "version": 3
   },
   "file_extension": ".py",
   "mimetype": "text/x-python",
   "name": "python",
   "nbconvert_exporter": "python",
   "pygments_lexer": "ipython3",
   "version": "3.6.4"
  }
 },
 "nbformat": 4,
 "nbformat_minor": 2
}
